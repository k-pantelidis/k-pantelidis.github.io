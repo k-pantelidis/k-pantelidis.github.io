{
 "cells": [
  {
   "cell_type": "code",
   "execution_count": 1,
   "id": "initial_id",
   "metadata": {
    "ExecuteTime": {
     "end_time": "2024-11-25T22:52:31.285770Z",
     "start_time": "2024-11-25T22:52:30.875468Z"
    },
    "collapsed": true,
    "execution": {
     "iopub.execute_input": "2025-01-10T02:49:06.947852Z",
     "iopub.status.busy": "2025-01-10T02:49:06.947568Z",
     "iopub.status.idle": "2025-01-10T02:49:07.210089Z",
     "shell.execute_reply": "2025-01-10T02:49:07.209340Z"
    }
   },
   "outputs": [],
   "source": [
    "import plotly.graph_objects as go\n",
    "from plotly.subplots import make_subplots\n",
    "import pandas as pd"
   ]
  },
  {
   "cell_type": "code",
   "execution_count": 2,
   "id": "b157afdd80417d14",
   "metadata": {
    "ExecuteTime": {
     "end_time": "2024-11-25T22:52:31.331751Z",
     "start_time": "2024-11-25T22:52:31.285770Z"
    },
    "execution": {
     "iopub.execute_input": "2025-01-10T02:49:07.212668Z",
     "iopub.status.busy": "2025-01-10T02:49:07.212404Z",
     "iopub.status.idle": "2025-01-10T02:49:07.232774Z",
     "shell.execute_reply": "2025-01-10T02:49:07.232103Z"
    }
   },
   "outputs": [],
   "source": [
    "df1 = pd.read_csv(r'data/df1.csv')\n",
    "df3p = pd.read_csv(r'data/df3p.csv')\n",
    "df3n = pd.read_csv(r'data/df3n.csv')\n",
    "evPickp = \"Positive Event\"\n",
    "evPickn = \"Negative Event\""
   ]
  },
  {
   "cell_type": "code",
   "execution_count": 3,
   "id": "cde5cde19701e013",
   "metadata": {
    "ExecuteTime": {
     "end_time": "2024-11-25T23:07:48.932778Z",
     "start_time": "2024-11-25T23:07:48.915363Z"
    },
    "execution": {
     "iopub.execute_input": "2025-01-10T02:49:07.235320Z",
     "iopub.status.busy": "2025-01-10T02:49:07.235100Z",
     "iopub.status.idle": "2025-01-10T02:49:07.246561Z",
     "shell.execute_reply": "2025-01-10T02:49:07.245866Z"
    }
   },
   "outputs": [],
   "source": [
    "def plot2subplots(d, df3p, df3n, evPickp, evPickn):\n",
    "    # Create a figure with 3 subplots and updated titles\n",
    "    fig = make_subplots(rows=3, cols=1, shared_xaxes=True, vertical_spacing=0.1,\n",
    "                        subplot_titles=(\"Bitcoin Price Returns\",\n",
    "                                        \"Positive Event TVDP\",\n",
    "                                        \"Negative Event TVDP\"))\n",
    "\n",
    "    d['Date'] = pd.to_datetime(d['Date'])\n",
    "\n",
    "    # Subplot 1: Bitcoin Returns\n",
    "    df_up_to_i = d[d['Date'] <= d['Date'].iloc[len(d) - 1]]\n",
    "\n",
    "    # Line trace for r_price with show legend set to False\n",
    "    bitcoin_return_trace = fig.add_trace(go.Scatter(\n",
    "        x=df_up_to_i['Date'],\n",
    "        y=df_up_to_i['r_price'],\n",
    "        mode='lines',\n",
    "        name='',\n",
    "        line=dict(color='steelblue'),\n",
    "        showlegend=False, hoverinfo='none'), row=1, col=1)\n",
    "\n",
    "    # Set hover template for Bitcoin Returns\n",
    "    fig.data[-1].hovertemplate = 'Date: %{x|%Y-%m-%d}<br>Returns: %{y:.2f}'\n",
    "\n",
    "    # Markers for positive events\n",
    "    event_indices_positive = df_up_to_i[df_up_to_i[evPickp] == 1].index\n",
    "    positive_event_trace = fig.add_trace(go.Scatter(\n",
    "        x=df_up_to_i.loc[event_indices_positive, 'Date'],\n",
    "        y=df_up_to_i.loc[event_indices_positive, 'r_price'],\n",
    "        mode='markers',\n",
    "        marker=dict(color='blue', symbol='x', size=5),\n",
    "        name=f'{evPickp}'), row=1, col=1)\n",
    "\n",
    "    # Set hover template for positive events\n",
    "    fig.data[-1].hovertemplate = 'Date: %{x|%Y-%m-%d}<br>Returns: %{y:.2f}'\n",
    "\n",
    "    # Markers for negative events\n",
    "    event_indices_negative = df_up_to_i[df_up_to_i[evPickn] == 1].index\n",
    "    negative_event_trace = fig.add_trace(go.Scatter(\n",
    "        x=df_up_to_i.loc[event_indices_negative, 'Date'],\n",
    "        y=df_up_to_i.loc[event_indices_negative, 'r_price'],\n",
    "        mode='markers',\n",
    "        marker=dict(color='red', symbol='x', size=5),\n",
    "        name=f'{evPickn}'), row=1, col=1)\n",
    "\n",
    "    # Set hover template for negative events\n",
    "    fig.data[-1].hovertemplate = 'Date: %{x|%Y-%m-%d}<br>Returns: %{y:.2f}'\n",
    "\n",
    "    # Format date for title\n",
    "    formatted_date = df_up_to_i['Date'].iloc[-1].strftime('%d-%m-%Y')\n",
    "\n",
    "    # Set title and axes labels for the first subplot\n",
    "    # fig.update_layout(title_text=f'Bitcoin Returns - Date: {formatted_date}', title_x=0.5)\n",
    "\n",
    "    # Subplot 2: Conditional Distribution Probability (Positive Events)\n",
    "    df3p['Date'] = pd.to_datetime(df3p['Date'])\n",
    "    positive_probability_trace = fig.add_trace(go.Scatter(\n",
    "        x=df3p['Date'],\n",
    "        y=df3p['Probability'],\n",
    "        mode='lines',\n",
    "        name='',\n",
    "        line=dict(color='steelblue'),\n",
    "        showlegend=False), row=2, col=1)\n",
    "\n",
    "    # Set hover template for positive probabilities\n",
    "    fig.data[-1].hovertemplate = 'Date: %{x|%Y-%m-%d}<br>Probability: %{y:.2f}'\n",
    "\n",
    "    # Subplot 3: Conditional Distribution Probability (Negative Events)\n",
    "    df3n['Date'] = pd.to_datetime(df3n['Date'])\n",
    "    negative_probability_trace = fig.add_trace(go.Scatter(\n",
    "        x=df3n['Date'],\n",
    "        y=df3n['Probability'],\n",
    "        mode='lines',\n",
    "        name='',\n",
    "        line=dict(color='steelblue'),\n",
    "        showlegend=False), row=3, col=1)\n",
    "\n",
    "    # Set hover template for negative probabilities\n",
    "    fig.data[-1].hovertemplate = 'Date: %{x|%Y-%m-%d}<br>Probability: %{y:.2f}'\n",
    "\n",
    "    # Update axes titles\n",
    "    fig.update_xaxes(title_text=\"Date\", row=1, col=1)\n",
    "    fig.update_xaxes(title_text=\"Date\", row=2, col=1)\n",
    "    fig.update_xaxes(title_text=\"Date\", row=3, col=1)\n",
    "\n",
    "    fig.update_yaxes(title_text=\"Returns\", row=1, col=1)\n",
    "    fig.update_yaxes(title_text=\"Probability\", row=2, col=1)\n",
    "    fig.update_yaxes(title_text=\"Probability\", row=3, col=1)\n",
    "\n",
    "    # Update layout for the main title of the figure if needed\n",
    "    fig.update_layout(\n",
    "        # title_text=f'Conditional Distribution {evPickp} Probability',\n",
    "        title_x=0.5,\n",
    "        autosize=True,\n",
    "        margin=dict(l=0, r=0, t=50, b=0)  # Adjust margins to utilize full space\n",
    "    )\n",
    "\n",
    "    # Update legend position for the first subplot (top right corner)\n",
    "    fig.update_layout(legend=dict(\n",
    "        x=0.99,\n",
    "        y=0.99,\n",
    "        xanchor='right',\n",
    "        yanchor='top',\n",
    "        orientation='h',\n",
    "        traceorder='normal',\n",
    "        bgcolor='rgba(255, 255, 255, 0.7)',\n",
    "        bordercolor='black',\n",
    "        borderwidth=1\n",
    "    ))\n",
    "\n",
    "    return fig"
   ]
  },
  {
   "cell_type": "code",
   "execution_count": 4,
   "id": "e6f9c870d765a15",
   "metadata": {
    "ExecuteTime": {
     "end_time": "2024-11-25T23:07:50.574913Z",
     "start_time": "2024-11-25T23:07:50.223759Z"
    },
    "execution": {
     "iopub.execute_input": "2025-01-10T02:49:07.248642Z",
     "iopub.status.busy": "2025-01-10T02:49:07.248440Z",
     "iopub.status.idle": "2025-01-10T02:49:07.503130Z",
     "shell.execute_reply": "2025-01-10T02:49:07.502331Z"
    }
   },
   "outputs": [],
   "source": [
    "# Generate the interactive plot figure\n",
    "figure = plot2subplots(df1, df3p, df3n, evPickp, evPickn)\n",
    "\n",
    "# Save the figure as an HTML file\n",
    "output_file = 'interactive_plot.html'\n",
    "figure.write_html(output_file)\n"
   ]
  }
 ],
 "metadata": {
  "kernelspec": {
   "display_name": "Python 3",
   "language": "python",
   "name": "python3"
  },
  "language_info": {
   "codemirror_mode": {
    "name": "ipython",
    "version": 3
   },
   "file_extension": ".py",
   "mimetype": "text/x-python",
   "name": "python",
   "nbconvert_exporter": "python",
   "pygments_lexer": "ipython3",
   "version": "3.10.9"
  }
 },
 "nbformat": 4,
 "nbformat_minor": 5
}
